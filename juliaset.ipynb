{
 "cells": [
  {
   "cell_type": "markdown",
   "metadata": {},
   "source": [
    "#Julia Set\n",
    "###Cormac O'Connor"
   ]
  },
  {
   "cell_type": "code",
   "execution_count": 43,
   "metadata": {
    "collapsed": false
   },
   "outputs": [
    {
     "name": "stdout",
     "output_type": "stream",
     "text": [
      "[1, 1, 1, 1, 1, 1, 1, 1, 1, 1, 1, 2, 2, 3, 4, 12, 0, 0, 0, 0, 0, 0, 0, 0, 0, 12, 4, 3, 2, 2, 1, 1, 1, 1, 1, 1, 1, 1, 1, 1]\n"
     ]
    }
   ],
   "source": [
    "import cmath\n",
    "import numpy as np\n",
    "\n",
    "class JuliaSet:\n",
    "    def __init__(self, c, n = 100):\n",
    "        self.c = c\n",
    "        self.n = n\n",
    "        self._d = .001\n",
    "    \n",
    "    def juliamap(self, z):\n",
    "        return z ** 2 + self.c\n",
    "    \n",
    "    def iterate(self, z):\n",
    "        for m in np.arange(1, self.n+1):\n",
    "            z = self.juliamap(z)\n",
    "            if abs(z) > 2:\n",
    "                return m\n",
    "        return 0\n",
    "    \n",
    "    \n",
    "    def setcomplexplane(self, _d):\n",
    "        x, y = -2, -2\n",
    "        self._complexplane = []\n",
    "        while (x <= 2 and y <= 2):\n",
    "            z = complex(x,y)\n",
    "            self._complexplane.append(z)\n",
    "            x = self._d + x\n",
    "            y = self._d + y\n",
    "        \n",
    "    def set_spacing(self, d):\n",
    "        self._d = d\n",
    "        self.setcomplexplane(d)\n",
    "        \n",
    "    \n",
    "    def generate(self):\n",
    "        self.set = []\n",
    "        for i in self._complexplane:\n",
    "            self.set.append(self.iterate(i))\n",
    "        return self.set\n",
    "        \n",
    "\n",
    "\n",
    "js=JuliaSet(complex(-0.3,0.3),100)\n",
    "js.set_spacing(.1)\n",
    "print js.generate()\n",
    "\n"
   ]
  },
  {
   "cell_type": "code",
   "execution_count": 44,
   "metadata": {
    "collapsed": false
   },
   "outputs": [
    {
     "name": "stdout",
     "output_type": "stream",
     "text": [
      "10000000 loops, best of 3: 97.6 ns per loop\n"
     ]
    }
   ],
   "source": [
    "%timeit JuliaSet"
   ]
  },
  {
   "cell_type": "code",
   "execution_count": 45,
   "metadata": {
    "collapsed": false
   },
   "outputs": [
    {
     "name": "stdout",
     "output_type": "stream",
     "text": [
      "CPU times: user 0 ns, sys: 0 ns, total: 0 ns\n",
      "Wall time: 8.82 µs\n"
     ]
    },
    {
     "data": {
      "text/plain": [
       "<class __main__.JuliaSet at 0x7fdb5cdcf390>"
      ]
     },
     "execution_count": 45,
     "metadata": {},
     "output_type": "execute_result"
    }
   ],
   "source": [
    "%time JuliaSet"
   ]
  },
  {
   "cell_type": "code",
   "execution_count": 46,
   "metadata": {
    "collapsed": false
   },
   "outputs": [
    {
     "name": "stdout",
     "output_type": "stream",
     "text": [
      " "
     ]
    }
   ],
   "source": [
    "%prun JuliaSet"
   ]
  },
  {
   "cell_type": "code",
   "execution_count": 47,
   "metadata": {
    "collapsed": false
   },
   "outputs": [
    {
     "name": "stdout",
     "output_type": "stream",
     "text": [
      "The line_profiler extension is already loaded. To reload it, use:\n",
      "  %reload_ext line_profiler\n"
     ]
    }
   ],
   "source": [
    "%load_ext line_profiler"
   ]
  },
  {
   "cell_type": "code",
   "execution_count": 53,
   "metadata": {
    "collapsed": false
   },
   "outputs": [],
   "source": [
    "%lprun JuliaSet"
   ]
  },
  {
   "cell_type": "code",
   "execution_count": null,
   "metadata": {
    "collapsed": true
   },
   "outputs": [],
   "source": []
  }
 ],
 "metadata": {
  "kernelspec": {
   "display_name": "Python 2",
   "language": "python",
   "name": "python2"
  },
  "language_info": {
   "codemirror_mode": {
    "name": "ipython",
    "version": 2
   },
   "file_extension": ".py",
   "mimetype": "text/x-python",
   "name": "python",
   "nbconvert_exporter": "python",
   "pygments_lexer": "ipython2",
   "version": "2.7.9"
  },
  "name": "juliaset.ipynb"
 },
 "nbformat": 4,
 "nbformat_minor": 0
}
